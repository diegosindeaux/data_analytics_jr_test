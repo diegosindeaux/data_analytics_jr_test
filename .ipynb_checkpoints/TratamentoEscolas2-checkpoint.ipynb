{
 "cells": [
  {
   "cell_type": "code",
   "execution_count": 1,
   "id": "8cdcb679-10d5-464a-be26-261e546c2494",
   "metadata": {},
   "outputs": [],
   "source": [
    "import os\n",
    "import pandas as pd\n",
    "import matplotlib.pyplot as plt"
   ]
  },
  {
   "cell_type": "code",
   "execution_count": null,
   "id": "963dc679-311c-4f70-b486-2b938570fd12",
   "metadata": {},
   "outputs": [],
   "source": [
    "data = pd.read_csv('data/Escolas/escolasr34.csv', delimiter=';')"
   ]
  },
  {
   "cell_type": "code",
   "execution_count": null,
   "id": "370e617b-42b7-4710-a128-9e4aea727f33",
   "metadata": {},
   "outputs": [],
   "source": [
    "data.head()"
   ]
  },
  {
   "cell_type": "code",
   "execution_count": null,
   "id": "7f38de85-6f4a-4f05-9051-06a018e83e99",
   "metadata": {},
   "outputs": [],
   "source": [
    "blank_columns = data.isnull().all(axis=0)\n",
    "blank_total = blank_columns.sum()\n",
    "blank_total"
   ]
  },
  {
   "cell_type": "code",
   "execution_count": null,
   "id": "7441e2f9-1577-4d1b-ae85-317ae26782e9",
   "metadata": {},
   "outputs": [],
   "source": [
    "print(data.dtypes)"
   ]
  },
  {
   "cell_type": "code",
   "execution_count": null,
   "id": "6288f388-679d-4b54-8dc0-4d3e09c86f7f",
   "metadata": {},
   "outputs": [],
   "source": [
    "data.drop(['T2D3D', 'T2D3D07', 'T2D3D08', 'T2D3D09', 'T2D3D10', 'T2D3D11', 'T2D3D12', 'T2D3D13', 'T2D3D14', 'T2D3D15',\n",
    "                 'DTURNOS', 'DTURNOS07', 'DTURNOS08', 'DTURNOS09', 'DTURNOS10', 'DTURNOS11', 'DTURNOS12', 'DTURNOS13', 'DTURNOS14', 'DTURNOS15'], axis=1, inplace=True)"
   ]
  },
  {
   "cell_type": "code",
   "execution_count": null,
   "id": "4e80a49e-127e-46a8-98d4-583c4b766ce5",
   "metadata": {},
   "outputs": [],
   "source": [
    "data.head()"
   ]
  },
  {
   "cell_type": "code",
   "execution_count": null,
   "id": "b4b44845-76ad-4069-bf6c-739dc9abdbfd",
   "metadata": {},
   "outputs": [],
   "source": [
    "data.to_csv('data/Escolas/escolasr34T.csv', index=False, sep=';', encoding='utf-8')"
   ]
  },
  {
   "cell_type": "code",
   "execution_count": null,
   "id": "fad644c6-75bd-40ec-967a-910987f5122f",
   "metadata": {},
   "outputs": [],
   "source": [
    "data = pd.read_csv('data/Escolas/escolasr34dez2017.csv', delimiter=';')"
   ]
  },
  {
   "cell_type": "code",
   "execution_count": null,
   "id": "5bcaed23-b750-41a3-b3b4-827e971faaff",
   "metadata": {},
   "outputs": [],
   "source": [
    "data.head()"
   ]
  },
  {
   "cell_type": "code",
   "execution_count": null,
   "id": "c9f2fca6-8e96-416a-b630-0eb7de56c143",
   "metadata": {},
   "outputs": [],
   "source": [
    "data.drop(['T2D3D', 'T2D3D07', 'T2D3D08', 'T2D3D09', 'T2D3D10', 'T2D3D11', 'T2D3D12', 'T2D3D13', 'T2D3D14', 'T2D3D15', 'T2D3D16',\n",
    "           'DTURNOS', 'DTURNOS07', 'DTURNOS08', 'DTURNOS09', 'DTURNOS10', 'DTURNOS11', 'DTURNOS12', 'DTURNOS13', \n",
    "           'DTURNOS14', 'DTURNOS15', 'DTURNOS16'], axis=1, inplace=True)\n"
   ]
  },
  {
   "cell_type": "code",
   "execution_count": null,
   "id": "5d700806-6246-4b6d-9f0d-588702d4d72c",
   "metadata": {},
   "outputs": [],
   "source": [
    "data.head()"
   ]
  },
  {
   "cell_type": "code",
   "execution_count": null,
   "id": "17bbaede-e767-42d2-b2f7-54dfbe2b17ac",
   "metadata": {},
   "outputs": [],
   "source": [
    "data['DATABASE'] = '28/12/2017'"
   ]
  },
  {
   "cell_type": "code",
   "execution_count": null,
   "id": "7b687204-5ec2-476a-8b95-2c2dfea09bcc",
   "metadata": {},
   "outputs": [],
   "source": [
    "print(data.dtypes)"
   ]
  },
  {
   "cell_type": "code",
   "execution_count": null,
   "id": "6cf3d982-4588-4d50-9926-efba53533bf1",
   "metadata": {},
   "outputs": [],
   "source": [
    "data.to_csv('data/Escolas/escolasr34dez2017T.csv', index=False, sep=';', encoding='utf-8')"
   ]
  },
  {
   "cell_type": "code",
   "execution_count": null,
   "id": "b6511d2e-6e70-467d-b1dd-9f128ecbf036",
   "metadata": {},
   "outputs": [],
   "source": [
    "data = pd.read_csv('data/Escolas/escolas122018.csv', delimiter=';')"
   ]
  },
  {
   "cell_type": "code",
   "execution_count": null,
   "id": "46c16bf6-d2bb-408e-aa1e-ece50dbaae8c",
   "metadata": {},
   "outputs": [],
   "source": [
    "data.head()"
   ]
  },
  {
   "cell_type": "code",
   "execution_count": null,
   "id": "3d7ed7ed-3f34-4c07-9c8a-662f352ad5a0",
   "metadata": {},
   "outputs": [],
   "source": [
    "print(data.dtypes)"
   ]
  },
  {
   "cell_type": "code",
   "execution_count": null,
   "id": "16a77a6e-2cdd-401d-ac1d-09ed8d19eaa1",
   "metadata": {},
   "outputs": [],
   "source": [
    "data.rename(columns={'ï»¿dre' : 'DRE',\n"
   ]
  },
  {
   "cell_type": "code",
   "execution_count": null,
   "id": "45c721a5-0930-4a32-ab7b-2f6ab576bc0a",
   "metadata": {},
   "outputs": [],
   "source": [
    "print(data.dtypes)"
   ]
  },
  {
   "cell_type": "code",
   "execution_count": null,
   "id": "ccdf9753-acb5-4403-afda-d154a935693f",
   "metadata": {},
   "outputs": [],
   "source": [
    "data['LATITUDE'] = pd.to_numeric(data['LATITUDE'], errors='coerce')\n",
    "data['LONGITUDE'] = pd.to_numeric(data['LONGITUDE'], errors='coerce')\n",
    "data['EH'] = pd.to_numeric(data['EH'], errors='coerce')\n",
    "data['SETOR'] = data['SETOR'].astype(float)\n",
    "data['CODDIST'] = data['CODDIST'].astype(float)\n",
    "data['TEL1'] = data['TEL1'].astype(object)\n",
    "data['FAX'] = data['FAX'].astype(object)\n",
    "\n",
    "# Entendo que tem algumas coisas que deveriam ser de outro tipo, mas pelo enunciado do desafio\n",
    "# tinha que seguir o mesmo formato de dados.\n",
    "\n",
    "\n",
    "\n",
    "print(data.dtypes)\n"
   ]
  },
  {
   "cell_type": "code",
   "execution_count": null,
   "id": "90bbd901-b7c5-43f8-bf24-732faf239f58",
   "metadata": {},
   "outputs": [],
   "source": [
    "data.to_csv('data/Escolas/escolas122018T.csv', index=False, sep=';', encoding='utf-8')"
   ]
  },
  {
   "cell_type": "code",
   "execution_count": null,
   "id": "8dc588b2-4292-40df-9d30-1a4941d7141a",
   "metadata": {},
   "outputs": [],
   "source": [
    "data = pd.read_csv('data/Escolas/escolas122019.csv', delimiter=';')"
   ]
  },
  {
   "cell_type": "code",
   "execution_count": null,
   "id": "bdc84883-3ad7-4b0a-be81-dbc3b049d761",
   "metadata": {},
   "outputs": [],
   "source": [
    "data.head()"
   ]
  },
  {
   "cell_type": "code",
   "execution_count": null,
   "id": "7894841d-e774-4f30-a29b-b7c3fa6e36b1",
   "metadata": {},
   "outputs": [],
   "source": [
    "data.rename(columns={'ï»¿dre' : 'DRE',\n",
    "                     'codesc' : 'CODESC',\n",
    "                     'tipoesc' : 'TIPOESC',\n",
    "                     'nomesc' : 'NOMESC',\n",
    "                     'ceu' : 'CEU',\n",
    "                     'diretoria' : 'DIRETORIA',\n",
    "                     'subpref' : 'SUBPREF',\n",
    "                     'endereco' : 'ENDERECO',\n",
    "                     'numero' : 'NUMERO',\n",
    "                     'bairro' : 'BAIRRO',\n",
    "                     'cep' : 'CEP',\n",
    "                     'tel1' : 'TEL1',\n",
    "                     'tel2' : 'TEL2',\n",
    "                     'fax' : 'FAX',\n",
    "                     'situacao' : 'SITUACAO',\n",
    "                     'coddist' : 'CODDIST',\n",
    "                     'distrito' : 'DISTRITO',\n",
    "                     'setor' : 'SETOR',\n",
    "                     'codinep' : 'CODINEP',\n",
    "                     'cd_cie' : 'CODCIE',\n",
    "                     'eh' : 'EH',\n",
    "                     'fx_etaria' : 'FX_ETARIA',\n",
    "                     'dt_criacao' : 'DT_CRIACAO',\n",
    "                     'ato_criacao' : 'ATO_CRIACAO',\n",
    "                     'doc_criacao' : 'DOM_CRIACAO',\n",
    "                     'dt_ini_conv' : 'DT_INI_CONV',\n",
    "                     'dt_ini_func' : 'DT_INI_FUNC',\n",
    "                     'dt_autoriza' : 'DT_AUTORIZA',\n",
    "                     'dt_extintao' : 'DT_EXTINCAO',\n",
    "                     'nome_ant' : 'NOME_ANT',\n",
    "                     'rede' : 'REDE',\n",
    "                     'latitude' : 'LATITUDE',\n",
    "                     'longitude' : 'LONGITUDE',\n",
    "                     'database' : 'DATABASE',\n",
    "                    }, inplace=True)"
   ]
  },
  {
   "cell_type": "code",
   "execution_count": null,
   "id": "fec89ce5-54a8-4220-ac29-6a84dde27234",
   "metadata": {},
   "outputs": [],
   "source": [
    "print(data.dtypes)"
   ]
  },
  {
   "cell_type": "code",
   "execution_count": null,
   "id": "c4c1125f-1219-4b79-8c73-5318a90b6c3d",
   "metadata": {},
   "outputs": [],
   "source": [
    "data['LATITUDE'] = pd.to_numeric(data['LATITUDE'], errors='coerce')\n",
    "data['LONGITUDE'] = pd.to_numeric(data['LONGITUDE'], errors='coerce')\n",
    "data['EH'] = pd.to_numeric(data['EH'], errors='coerce')\n",
    "data['SETOR'] = data['SETOR'].astype(float)\n",
    "data['CODDIST'] = data['CODDIST'].astype(float)\n",
    "data['TEL1'] = data['TEL1'].astype(object)\n",
    "data['FAX'] = data['FAX'].astype(object)\n",
    "\n",
    "print(data.dtypes)"
   ]
  },
  {
   "cell_type": "code",
   "execution_count": null,
   "id": "d550a237-9230-4a44-be12-372bf5c6b287",
   "metadata": {},
   "outputs": [],
   "source": [
    "data.to_csv('data/Escolas/escolas122019T.csv', index=False, sep=';', encoding='utf-8')"
   ]
  },
  {
   "cell_type": "code",
   "execution_count": null,
   "id": "c85f5c4c-03f2-4d4a-98bf-91392b8cac09",
   "metadata": {},
   "outputs": [],
   "source": [
    "data = pd.read_csv('data/Escolas/escolas122020.csv', delimiter=';')"
   ]
  },
  {
   "cell_type": "code",
   "execution_count": null,
   "id": "f05563c6-cc64-4e37-979a-210891d1ddc5",
   "metadata": {},
   "outputs": [],
   "source": [
    "data.head()"
   ]
  },
  {
   "cell_type": "code",
   "execution_count": null,
   "id": "cf665ebe-42a0-45bb-9147-a113ccc27d11",
   "metadata": {},
   "outputs": [],
   "source": [
    "print(data.dtypes)"
   ]
  },
  {
   "cell_type": "code",
   "execution_count": null,
   "id": "10f32da0-acc4-49c3-8690-98c2ba97a681",
   "metadata": {},
   "outputs": [],
   "source": [
    "data.rename(columns={'dre' : 'DRE',\n",
    "                     'codesc' : 'CODESC',\n",
    "                     'tipoesc' : 'TIPOESC',\n",
    "                     'nomesc' : 'NOMESC',\n",
    "                     'diretoria' : 'DIRETORIA',\n",
    "                     'subpref' : 'SUBPREF',\n",
    "                     'coddist' : 'CODDIST',\n",
    "                     'distrito' : 'DISTRITO',\n",
    "                     'setor' : 'SETOR',\n",
    "                     'codinep' : 'CODINEP',\n",
    "                     'cd_cie' : 'CODCIE',\n",
    "                     'eh' : 'EH',\n",
    "                     'dt_extincao' : 'DT_EXTINCAO',\n",
    "                    }, inplace=True)\n",
    "\n",
    "data.drop(['nomescofi'], axis=1, inplace=True)\n",
    "\n",
    "data['LATITUDE'] = data['LATITUDE'].astype(float)\n",
    "data['LONGITUDE'] = data['LONGITUDE'].astype(float)\n",
    "data['EH'] = pd.to_numeric(data['EH'], errors='coerce')\n",
    "data['SETOR'] = data['SETOR'].astype(float)\n",
    "data['CODDIST'] = data['CODDIST'].astype(float)\n",
    "data['TEL1'] = data['TEL1'].astype(object)\n",
    "data['FAX'] = data['FAX'].astype(object)\n",
    "\n",
    "print(data.dtypes)"
   ]
  },
  {
   "cell_type": "code",
   "execution_count": null,
   "id": "58dbfea7-3b80-421a-bf75-1cdd3dc23665",
   "metadata": {},
   "outputs": [],
   "source": [
    "data.to_csv('data/Escolas/escolas122020T.csv', index=False, sep=';', encoding='utf-8')"
   ]
  },
  {
   "cell_type": "code",
   "execution_count": null,
   "id": "5433aeb5-99f1-4ae8-9505-883743db4da2",
   "metadata": {},
   "outputs": [],
   "source": [
    "data = pd.read_csv('data/Escolas/escolas122021.csv', delimiter=';')"
   ]
  },
  {
   "cell_type": "code",
   "execution_count": null,
   "id": "3e468d48-41cb-4dbb-8233-86bdf65bf299",
   "metadata": {},
   "outputs": [],
   "source": [
    "data.head()"
   ]
  },
  {
   "cell_type": "code",
   "execution_count": null,
   "id": "e7eaf4ff-d274-4b81-97f4-106c20f1a509",
   "metadata": {},
   "outputs": [],
   "source": [
    "print(data.dtypes)"
   ]
  },
  {
   "cell_type": "code",
   "execution_count": null,
   "id": "406b177a-0639-4aa7-98e5-ce6cc953d48f",
   "metadata": {},
   "outputs": [],
   "source": [
    "data.rename(columns={'CD_CIE' : 'CODCIE'}, inplace=True)\n",
    "\n",
    "data['DATABASE'] = '31/12/2021'\n",
    "\n",
    "data.drop(['NOMESCOFI', 'DT_CRIACAO', 'DT_INI_CONV', 'DT_AUTORIZA', 'DT_EXTINCAO', 'DOM_CRIACAO'], axis=1, inplace=True)\n",
    "data['LATITUDE'] = data['LATITUDE'].astype(float)\n",
    "data['LONGITUDE'] = data['LONGITUDE'].astype(float)\n",
    "data['EH'] = pd.to_numeric(data['EH'], errors='coerce')\n",
    "data['SETOR'] = data['SETOR'].astype(float)\n",
    "data['CODDIST'] = data['CODDIST'].astype(float)\n",
    "data['CODINEP'] = data['CODINEP'].astype(float)\n",
    "\n",
    "\n",
    "print(data.dtypes)"
   ]
  },
  {
   "cell_type": "code",
   "execution_count": null,
   "id": "dcfac270-ee46-4bbf-8935-5c378132f5ae",
   "metadata": {},
   "outputs": [],
   "source": [
    "data.to_csv('data/Escolas/escolas122021T.csv', index=False, sep=';', encoding='utf-8')"
   ]
  },
  {
   "cell_type": "code",
   "execution_count": null,
   "id": "dfb84411-b7d8-41c3-8dfd-ea45d3e61b1e",
   "metadata": {},
   "outputs": [],
   "source": [
    "data = pd.read_csv('data/Escolas/escolas122022.csv', delimiter=';')"
   ]
  },
  {
   "cell_type": "code",
   "execution_count": null,
   "id": "00f2d262-48d6-405f-a87e-f55caf306853",
   "metadata": {},
   "outputs": [],
   "source": [
    "data.head()"
   ]
  },
  {
   "cell_type": "code",
   "execution_count": null,
   "id": "7eb44205-43a4-49f5-82d6-7038630da90f",
   "metadata": {},
   "outputs": [],
   "source": [
    "print(data.dtypes)"
   ]
  },
  {
   "cell_type": "code",
   "execution_count": null,
   "id": "f8b96573-64e8-47a9-8f13-b8dbf52946ca",
   "metadata": {},
   "outputs": [],
   "source": [
    "data.rename(columns={'CD_CIE' : 'CODCIE'}, inplace=True)\n",
    "data.drop(['NOMESCOFI'], axis=1, inplace=True)\n",
    "\n",
    "data['LATITUDE'] = data['LATITUDE'].astype(float)\n",
    "data['LONGITUDE'] = data['LONGITUDE'].astype(float)\n",
    "data['REDE'] = data['REDE'].astype(object)\n",
    "data['EH'] = pd.to_numeric(data['EH'], errors='coerce')\n",
    "data['SETOR'] = data['SETOR'].astype(float)\n",
    "data['CODDIST'] = data['CODDIST'].astype(float)\n",
    "data['DT_EXTINCAO'] = data['DT_EXTINCAO'].astype(object)\n",
    "\n",
    "print(data.dtypes)"
   ]
  },
  {
   "cell_type": "code",
   "execution_count": null,
   "id": "b7db0be9-a6cd-4d7f-bceb-694039c12caf",
   "metadata": {},
   "outputs": [],
   "source": [
    "data.to_csv('data/Escolas/escolas122022T.csv', index=False, sep=';', encoding='utf-8')"
   ]
  },
  {
   "cell_type": "code",
   "execution_count": null,
   "id": "a693ad4e-35c7-4dba-92c8-05f72fd6b621",
   "metadata": {},
   "outputs": [],
   "source": [
    "data = pd.read_csv('data/Escolas/escolas122023.csv', delimiter=';')"
   ]
  },
  {
   "cell_type": "code",
   "execution_count": null,
   "id": "e8bfa1c9-6ed8-4fa5-b7c0-f3628047a440",
   "metadata": {},
   "outputs": [],
   "source": [
    "data.head()"
   ]
  },
  {
   "cell_type": "code",
   "execution_count": null,
   "id": "8823fb0c-4fb1-4a98-b5a1-dabc31ce858d",
   "metadata": {},
   "outputs": [],
   "source": [
    "print(data.dtypes)"
   ]
  },
  {
   "cell_type": "code",
   "execution_count": null,
   "id": "123b5d6e-107c-4298-a1e3-41fbc13ff274",
   "metadata": {},
   "outputs": [],
   "source": [
    "data.rename(columns={'CDIST' : 'CODDIST',\n",
    "                     'CD_CIE' : 'CODCIE',\n",
    "                     'NOMES' : 'NOMESC'\n",
    "                    }, inplace=True)\n",
    "\n",
    "data.drop(['DESLOC', 'FX_ETARIA.1'], axis=1, inplace=True)\n",
    "\n",
    "data['LATITUDE'] = data['LATITUDE'].astype(float)\n",
    "data['LONGITUDE'] = data['LONGITUDE'].astype(float)\n",
    "data['EH'] = pd.to_numeric(data['EH'], errors='coerce')\n",
    "data['SETOR'] = data['SETOR'].astype(float)\n",
    "data['CODDIST'] = data['CODDIST'].astype(float)\n",
    "data['DT_EXTINCAO'] = data['DT_EXTINCAO'].astype(object)\n",
    "\n",
    "print(data.dtypes)"
   ]
  },
  {
   "cell_type": "code",
   "execution_count": null,
   "id": "fc2c8d55-bb54-44ff-bbc2-9388e70c7be0",
   "metadata": {},
   "outputs": [],
   "source": [
    "data.to_csv('data/Escolas/escolas122023T.csv', index=False, sep=';', encoding='utf-8')"
   ]
  }
 ],
 "metadata": {
  "kernelspec": {
   "display_name": "Python 3 (ipykernel)",
   "language": "python",
   "name": "python3"
  },
  "language_info": {
   "codemirror_mode": {
    "name": "ipython",
    "version": 3
   },
   "file_extension": ".py",
   "mimetype": "text/x-python",
   "name": "python",
   "nbconvert_exporter": "python",
   "pygments_lexer": "ipython3",
   "version": "3.12.7"
  }
 },
 "nbformat": 4,
 "nbformat_minor": 5
}
